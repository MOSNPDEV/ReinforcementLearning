{
 "cells": [
  {
   "cell_type": "code",
   "execution_count": 7,
   "metadata": {},
   "outputs": [],
   "source": [
    "import random\n",
    "import time\n",
    "import warnings\n",
    "\n",
    "import matplotlib.pyplot as plt\n",
    "import numpy as np\n",
    "import tensorflow as tf\n",
    "\n",
    "from collections import deque\n",
    "from vizdoom import *"
   ]
  },
  {
   "cell_type": "code",
   "execution_count": 8,
   "metadata": {},
   "outputs": [],
   "source": [
    "def create_environment():\n",
    "    game = DoomGame()    \n",
    "    game.load_config(\"C:/Python36/Lib/site-packages/vizdoom/scenarios/defend_the_center.cfg\")\n",
    "    game.set_doom_scenario_path(\"C:/Python36/Lib/site-packages/vizdoom/scenarios/defend_the_center.wad\")\n",
    "    game.init()\n",
    "    \n",
    "    return game, np.identity(3,dtype=int).tolist()\n",
    "    \n",
    "def preprocess_frame(frame):\n",
    "    if frame.shape[0] == 3:\n",
    "        frame = np.mean(frame, axis=0)\n",
    "    cropped_frame = frame[40:, :]\n",
    "    normalized_frame = np.divide(cropped_frame, 255)\n",
    "    \n",
    "    return transform.resize(normalized_frame, [100, 160])\n",
    "\n",
    "stack_size = 4 \n",
    "# Initialize deque\n",
    "stacked_frames  =  deque([np.zeros((100, 160), dtype=np.int) for i in range(stack_size)], maxlen=4) \n",
    "\n",
    "def stack_frames(stacked_frames, state, is_new_episode):\n",
    "    frame = preprocess_frame(state)    \n",
    "    if is_new_episode:\n",
    "        stacked_frames = deque([np.zeros((100, 160), dtype=np.int) for i in range(stack_size)], maxlen=4)\n",
    "        for i in range(4):\n",
    "            stacked_frames.append(frame)\n",
    "        stacked_state = np.stack(stacked_frames, axis=2)        \n",
    "    else:\n",
    "        stacked_frames.append(frame)\n",
    "        stacked_state = np.stack(stacked_frames, axis=2) \n",
    "    \n",
    "    return stacked_state, stacked_frames\n",
    "\n",
    "def discount_and_normalize_rewards(episode_rewards):\n",
    "    discounted_episode_rewards = np.zeros_like(episode_rewards)\n",
    "    cumulative = 0.0\n",
    "    for i in reversed(range(len(episode_rewards))):\n",
    "        cumulative = cumulative * gamma + episode_rewards[i]\n",
    "        discounted_episode_rewards[i] = cumulative\n",
    "        \n",
    "    mean = np.mean(discounted_episode_rewards)\n",
    "    std = np.std(discounted_episode_rewards)\n",
    "    discounted_episode_rewards = (discounted_episode_rewards - mean) / (std)\n",
    "    \n",
    "    return discounted_episode_rewards"
   ]
  },
  {
   "cell_type": "code",
   "execution_count": null,
   "metadata": {},
   "outputs": [],
   "source": []
  },
  {
   "cell_type": "code",
   "execution_count": null,
   "metadata": {},
   "outputs": [],
   "source": []
  }
 ],
 "metadata": {
  "kernelspec": {
   "display_name": "Python 3",
   "language": "python",
   "name": "python3"
  },
  "language_info": {
   "codemirror_mode": {
    "name": "ipython",
    "version": 3
   },
   "file_extension": ".py",
   "mimetype": "text/x-python",
   "name": "python",
   "nbconvert_exporter": "python",
   "pygments_lexer": "ipython3",
   "version": "3.6.0"
  }
 },
 "nbformat": 4,
 "nbformat_minor": 2
}
